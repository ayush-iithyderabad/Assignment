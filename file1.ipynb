{
 "cells": [
  {
   "cell_type": "code",
   "execution_count": 8,
   "id": "69040d27-ed98-4a34-8c71-f52407f20659",
   "metadata": {},
   "outputs": [
    {
     "name": "stdin",
     "output_type": "stream",
     "text": [
      " True\n"
     ]
    },
    {
     "name": "stdout",
     "output_type": "stream",
     "text": [
      "True\n",
      "<class 'bool'>\n"
     ]
    }
   ],
   "source": [
    "var=eval(input())\n",
    "print(var)\n",
    "print(type(var))"
   ]
  },
  {
   "cell_type": "code",
   "execution_count": 16,
   "id": "309f4147-8bc5-4460-80e9-a5d8990edd97",
   "metadata": {},
   "outputs": [
    {
     "name": "stdout",
     "output_type": "stream",
     "text": [
      "ayush|amita|priya|aayushi|aditi\n"
     ]
    }
   ],
   "source": [
    "print(\"ayush\",\"amita\",\"priya\",\"aayushi\",\"aditi\",sep=\"|\")"
   ]
  },
  {
   "cell_type": "code",
   "execution_count": 21,
   "id": "cf9cb5f5-adf4-4cbc-b4b3-d253978aa4b3",
   "metadata": {},
   "outputs": [
    {
     "name": "stdout",
     "output_type": "stream",
     "text": [
      "ayush\n",
      "\n",
      "pratap\n",
      "\n",
      "singh\n",
      "\n"
     ]
    }
   ],
   "source": [
    "print(\"ayush\",end=\"\\n\\n\")\n",
    "print(\"pratap\",end=\"\\n\\n\")\n",
    "print(\"singh\",end=\"\\n\\n\")"
   ]
  },
  {
   "cell_type": "code",
   "execution_count": 24,
   "id": "da464d50-9dc5-4360-a9e8-1da8ae4ffa80",
   "metadata": {},
   "outputs": [
    {
     "name": "stdout",
     "output_type": "stream",
     "text": [
      "ayush+\n",
      "pratap+\n",
      "singh\n"
     ]
    }
   ],
   "source": [
    "print(\"ayush\",\"pratap\",\"singh\",sep=\"+\\n\")"
   ]
  },
  {
   "cell_type": "code",
   "execution_count": 27,
   "id": "864c6cb7-3cc1-4f79-a584-9ffaa8d1495b",
   "metadata": {},
   "outputs": [
    {
     "name": "stdout",
     "output_type": "stream",
     "text": [
      "aayushi bisnoi*\n",
      "is the wife of *\n",
      " ayush pratap singh "
     ]
    }
   ],
   "source": [
    "print(\"aayushi bisnoi\",end=\"*\\n\")\n",
    "print(\"is the wife of \",end=\"*\\n \")\n",
    "print(\"ayush pratap singh\",end=\"/ \")"
   ]
  },
  {
   "cell_type": "code",
   "execution_count": 39,
   "id": "a83aca67-e2bb-44e0-a4df-79c02a1feb28",
   "metadata": {},
   "outputs": [
    {
     "name": "stdout",
     "output_type": "stream",
     "text": [
      "ayush pratap singh.....\n"
     ]
    },
    {
     "data": {
      "text/plain": [
       "'print(\"aayushi bisnoi.........\")\\nprint(\"ayush pratap singh.....\")'"
      ]
     },
     "execution_count": 39,
     "metadata": {},
     "output_type": "execute_result"
    }
   ],
   "source": [
    "print(\"ayush pratap singh.....\") ## print is used to display on the console\n",
    "'''print(\"aayushi bisnoi.........\")\n",
    "print(\"ayush pratap singh.....\")'''"
   ]
  },
  {
   "cell_type": "code",
   "execution_count": 38,
   "id": "4c816a84-32dc-4249-838a-9dbd2bbc66af",
   "metadata": {},
   "outputs": [
    {
     "name": "stdout",
     "output_type": "stream",
     "text": [
      "aayushi bisnoi\n"
     ]
    }
   ],
   "source": [
    "print(\"aayushi bisnoi\")"
   ]
  },
  {
   "cell_type": "code",
   "execution_count": 42,
   "id": "53469985-1db4-48d4-ba4c-3bc1f0c21dc7",
   "metadata": {},
   "outputs": [
    {
     "name": "stdout",
     "output_type": "stream",
     "text": [
      "vijendra singh\n"
     ]
    },
    {
     "data": {
      "text/plain": [
       "'print(\"muskan madam\")\\n    print(\"ankit viswakarma\")'"
      ]
     },
     "execution_count": 42,
     "metadata": {},
     "output_type": "execute_result"
    }
   ],
   "source": [
    "print(\"vijendra singh\")\n",
    "\"\"\"print(\"muskan madam\")\n",
    "    print(\"ankit viswakarma\")\"\"\""
   ]
  },
  {
   "cell_type": "code",
   "execution_count": 43,
   "id": "99a3fca3-a376-4181-8e36-21b3c975f179",
   "metadata": {},
   "outputs": [
    {
     "name": "stdout",
     "output_type": "stream",
     "text": [
      "mahendra singh\n",
      "wife name\n",
      "mamta singh\n"
     ]
    }
   ],
   "source": [
    "print(\"mahendra singh\",sep=\"\\n\")\n",
    "print(\"wife name\",sep=\"\\n\")\n",
    "print(\"mamta singh\",sep=\"\\n\")"
   ]
  },
  {
   "cell_type": "code",
   "execution_count": 44,
   "id": "ac2582b3-05f9-4407-a739-4951d9eacfc6",
   "metadata": {},
   "outputs": [
    {
     "name": "stdout",
     "output_type": "stream",
     "text": [
      "kartik koasta\n",
      "\n",
      "living in\n",
      "\n",
      "kanpur\n",
      "\n"
     ]
    }
   ],
   "source": [
    "print(\"kartik koasta\",end=\"\\n\\n\")\n",
    "print(\"living in\",end=\"\\n\\n\")\n",
    "print(\"kanpur\",end=\"\\n\\n\")"
   ]
  },
  {
   "cell_type": "code",
   "execution_count": null,
   "id": "be472b9b-0732-46ec-a05d-c341d32fff1e",
   "metadata": {},
   "outputs": [],
   "source": []
  }
 ],
 "metadata": {
  "kernelspec": {
   "display_name": "Python 3 (ipykernel)",
   "language": "python",
   "name": "python3"
  },
  "language_info": {
   "codemirror_mode": {
    "name": "ipython",
    "version": 3
   },
   "file_extension": ".py",
   "mimetype": "text/x-python",
   "name": "python",
   "nbconvert_exporter": "python",
   "pygments_lexer": "ipython3",
   "version": "3.10.8"
  }
 },
 "nbformat": 4,
 "nbformat_minor": 5
}
